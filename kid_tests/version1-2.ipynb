{
 "cells": [
  {
   "cell_type": "code",
   "execution_count": 1,
   "metadata": {},
   "outputs": [
    {
     "ename": "NameError",
     "evalue": "name 'Tlog' is not defined",
     "output_type": "error",
     "traceback": [
      "\u001b[1;31m---------------------------------------------------------------------------\u001b[0m",
      "\u001b[1;31mNameError\u001b[0m                                 Traceback (most recent call last)",
      "\u001b[1;32mC:\\Users\\ROOT_M~1\\AppData\\Local\\Temp/ipykernel_2344/3139007286.py\u001b[0m in \u001b[0;36m<module>\u001b[1;34m\u001b[0m\n\u001b[0;32m      2\u001b[0m \u001b[0mdestPath\u001b[0m \u001b[1;33m=\u001b[0m \u001b[1;34m'C:\\\\Users\\\\root_main\\\\Documents\\\\logs\\\\log_tlog_homolog'\u001b[0m\u001b[1;33m\u001b[0m\u001b[1;33m\u001b[0m\u001b[0m\n\u001b[0;32m      3\u001b[0m \u001b[0mlogtype\u001b[0m \u001b[1;33m=\u001b[0m \u001b[1;36m5\u001b[0m\u001b[1;33m\u001b[0m\u001b[1;33m\u001b[0m\u001b[0m\n\u001b[1;32m----> 4\u001b[1;33m \u001b[0mlog\u001b[0m \u001b[1;33m=\u001b[0m \u001b[0mTlog\u001b[0m\u001b[1;33m(\u001b[0m\u001b[0mdestPath\u001b[0m\u001b[1;33m,\u001b[0m \u001b[0mlogtype\u001b[0m\u001b[1;33m,\u001b[0m \u001b[0mprefix\u001b[0m\u001b[1;33m=\u001b[0m \u001b[1;34m'Teste'\u001b[0m\u001b[1;33m,\u001b[0m \u001b[0mfullMestype\u001b[0m\u001b[1;33m=\u001b[0m \u001b[1;32mTrue\u001b[0m\u001b[1;33m)\u001b[0m\u001b[1;33m\u001b[0m\u001b[1;33m\u001b[0m\u001b[0m\n\u001b[0m",
      "\u001b[1;31mNameError\u001b[0m: name 'Tlog' is not defined"
     ]
    }
   ],
   "source": [
    "#Teste sem import\n",
    "destPath = 'C:\\\\Users\\\\root_main\\\\Documents\\\\logs\\\\log_tlog_homolog'\n",
    "logtype = 5\n",
    "log = Tlog(destPath, logtype, prefix= 'Teste', fullMestype= True)\n"
   ]
  },
  {
   "cell_type": "code",
   "execution_count": 2,
   "metadata": {},
   "outputs": [],
   "source": [
    "from tlog import Tlog\n",
    "#importação do Modulo"
   ]
  },
  {
   "cell_type": "code",
   "execution_count": 3,
   "metadata": {},
   "outputs": [
    {
     "ename": "TlogErrorParameterValue",
     "evalue": "O valor do parametro typeLog esta incorreto.\n  Verifique a documentação em: https://github.com/tlsabara/tlog",
     "output_type": "error",
     "traceback": [
      "\u001b[1;31m---------------------------------------------------------------------------\u001b[0m",
      "\u001b[1;31mTlogErrorParameterValue\u001b[0m                   Traceback (most recent call last)",
      "\u001b[1;32mC:\\Users\\ROOT_M~1\\AppData\\Local\\Temp/ipykernel_2344/95526095.py\u001b[0m in \u001b[0;36m<module>\u001b[1;34m\u001b[0m\n\u001b[0;32m      5\u001b[0m \u001b[0mlogtype\u001b[0m \u001b[1;33m=\u001b[0m \u001b[1;36m5\u001b[0m\u001b[1;33m\u001b[0m\u001b[1;33m\u001b[0m\u001b[0m\n\u001b[0;32m      6\u001b[0m \u001b[1;33m\u001b[0m\u001b[0m\n\u001b[1;32m----> 7\u001b[1;33m \u001b[0mlog\u001b[0m \u001b[1;33m=\u001b[0m \u001b[0mTlog\u001b[0m\u001b[1;33m(\u001b[0m\u001b[0mdestPath\u001b[0m\u001b[1;33m,\u001b[0m \u001b[0mlogtype\u001b[0m\u001b[1;33m,\u001b[0m \u001b[0mprefix\u001b[0m\u001b[1;33m=\u001b[0m \u001b[1;34m'Teste'\u001b[0m\u001b[1;33m,\u001b[0m \u001b[0mcredits\u001b[0m\u001b[1;33m=\u001b[0m\u001b[1;32mFalse\u001b[0m\u001b[1;33m)\u001b[0m\u001b[1;33m\u001b[0m\u001b[1;33m\u001b[0m\u001b[0m\n\u001b[0m",
      "\u001b[1;32mc:\\Users\\root_main\\Documents\\GitHub\\Projeto tlog\\tlog\\tlog.py\u001b[0m in \u001b[0;36m__init__\u001b[1;34m(self, path_exportFile, typeLog, credits, prefix)\u001b[0m\n\u001b[0;32m     10\u001b[0m                 \u001b[1;32mraise\u001b[0m \u001b[0mtlog_errors\u001b[0m\u001b[1;33m.\u001b[0m\u001b[0mTlogErrorInvalidTypeBool\u001b[0m\u001b[1;33m(\u001b[0m\u001b[0mcredits\u001b[0m\u001b[1;33m,\u001b[0m \u001b[1;34m'credits'\u001b[0m\u001b[1;33m)\u001b[0m\u001b[1;33m\u001b[0m\u001b[1;33m\u001b[0m\u001b[0m\n\u001b[0;32m     11\u001b[0m             \u001b[1;32melse\u001b[0m\u001b[1;33m:\u001b[0m\u001b[1;33m\u001b[0m\u001b[1;33m\u001b[0m\u001b[0m\n\u001b[1;32m---> 12\u001b[1;33m                 \u001b[1;32mraise\u001b[0m \u001b[0mtlog_errors\u001b[0m\u001b[1;33m.\u001b[0m\u001b[0mTlogErrorParameterValue\u001b[0m\u001b[1;33m(\u001b[0m\u001b[0mtypeLog\u001b[0m\u001b[1;33m)\u001b[0m\u001b[1;33m\u001b[0m\u001b[1;33m\u001b[0m\u001b[0m\n\u001b[0m\u001b[0;32m     13\u001b[0m         \u001b[1;32melse\u001b[0m\u001b[1;33m:\u001b[0m\u001b[1;33m\u001b[0m\u001b[1;33m\u001b[0m\u001b[0m\n\u001b[0;32m     14\u001b[0m             \u001b[0mstart_time\u001b[0m \u001b[1;33m=\u001b[0m \u001b[1;34m'Start time: {}'\u001b[0m\u001b[1;33m.\u001b[0m\u001b[0mformat\u001b[0m\u001b[1;33m(\u001b[0m\u001b[0mstr\u001b[0m\u001b[1;33m(\u001b[0m\u001b[0mdatetime\u001b[0m\u001b[1;33m.\u001b[0m\u001b[0mnow\u001b[0m\u001b[1;33m(\u001b[0m\u001b[1;33m)\u001b[0m\u001b[1;33m)\u001b[0m\u001b[1;33m)\u001b[0m\u001b[1;33m\u001b[0m\u001b[1;33m\u001b[0m\u001b[0m\n",
      "\u001b[1;31mTlogErrorParameterValue\u001b[0m: O valor do parametro typeLog esta incorreto.\n  Verifique a documentação em: https://github.com/tlsabara/tlog"
     ]
    }
   ],
   "source": [
    "#Teste com Parametros incorretos\n",
    "\n",
    "destPath = 'C:\\\\Users\\\\root_main\\\\Documents\\\\logs\\\\log_tlog_homolog'\n",
    "# o valor esta sendo definido fora dos parametros para poder testar a exec\n",
    "logtype = 5\n",
    "\n",
    "log = Tlog(destPath, logtype, prefix= 'Teste', credits=False)\n"
   ]
  },
  {
   "cell_type": "code",
   "execution_count": 4,
   "metadata": {},
   "outputs": [
    {
     "ename": "TlogErrorWriteFile",
     "evalue": "Erro na gravação do arquivo: C:\\Users\\root_main\\Documents\\logs\\log_tlog_homolog2\\Teste_Do_Tlog-2022-03-13-10-50-36.txt.",
     "output_type": "error",
     "traceback": [
      "\u001b[1;31m---------------------------------------------------------------------------\u001b[0m",
      "\u001b[1;31mFileNotFoundError\u001b[0m                         Traceback (most recent call last)",
      "\u001b[1;32mc:\\Users\\root_main\\Documents\\GitHub\\Projeto tlog\\tlog\\tlog.py\u001b[0m in \u001b[0;36m__init__\u001b[1;34m(self, path_exportFile, typeLog, credits, prefix)\u001b[0m\n\u001b[0;32m     18\u001b[0m                 \u001b[1;32mif\u001b[0m \u001b[0mtypeLog\u001b[0m \u001b[1;33m==\u001b[0m \u001b[1;36m1\u001b[0m \u001b[1;32mor\u001b[0m \u001b[0mtypeLog\u001b[0m \u001b[1;33m==\u001b[0m \u001b[1;36m0\u001b[0m\u001b[1;33m:\u001b[0m\u001b[1;33m\u001b[0m\u001b[1;33m\u001b[0m\u001b[0m\n\u001b[1;32m---> 19\u001b[1;33m                     \u001b[0marquivo\u001b[0m \u001b[1;33m=\u001b[0m \u001b[0mopen\u001b[0m\u001b[1;33m(\u001b[0m\u001b[0mstr\u001b[0m\u001b[1;33m(\u001b[0m\u001b[0mpath_try\u001b[0m\u001b[1;33m)\u001b[0m\u001b[1;33m,\u001b[0m\u001b[1;34m'w'\u001b[0m\u001b[1;33m)\u001b[0m\u001b[1;33m\u001b[0m\u001b[1;33m\u001b[0m\u001b[0m\n\u001b[0m\u001b[0;32m     20\u001b[0m                     \u001b[0marquivo\u001b[0m\u001b[1;33m.\u001b[0m\u001b[0mwrite\u001b[0m\u001b[1;33m(\u001b[0m\u001b[1;34m'---| teste log |---\\n'\u001b[0m\u001b[1;33m)\u001b[0m\u001b[1;33m\u001b[0m\u001b[1;33m\u001b[0m\u001b[0m\n",
      "\u001b[1;31mFileNotFoundError\u001b[0m: [Errno 2] No such file or directory: 'C:\\\\Users\\\\root_main\\\\Documents\\\\logs\\\\log_tlog_homolog2\\\\Teste_Do_Tlog-2022-03-13-10-50-36.txt'",
      "\nDuring handling of the above exception, another exception occurred:\n",
      "\u001b[1;31mTlogErrorWriteFile\u001b[0m                        Traceback (most recent call last)",
      "\u001b[1;32mC:\\Users\\ROOT_M~1\\AppData\\Local\\Temp/ipykernel_2344/2383557582.py\u001b[0m in \u001b[0;36m<module>\u001b[1;34m\u001b[0m\n\u001b[0;32m      5\u001b[0m \u001b[0mlogtype\u001b[0m \u001b[1;33m=\u001b[0m \u001b[1;36m0\u001b[0m\u001b[1;33m\u001b[0m\u001b[1;33m\u001b[0m\u001b[0m\n\u001b[0;32m      6\u001b[0m \u001b[1;33m\u001b[0m\u001b[0m\n\u001b[1;32m----> 7\u001b[1;33m \u001b[0mlog\u001b[0m \u001b[1;33m=\u001b[0m \u001b[0mTlog\u001b[0m\u001b[1;33m(\u001b[0m\u001b[0mdestPath\u001b[0m\u001b[1;33m,\u001b[0m \u001b[0mlogtype\u001b[0m\u001b[1;33m,\u001b[0m \u001b[0mprefix\u001b[0m\u001b[1;33m=\u001b[0m \u001b[1;34m'Teste_Do_Tlog'\u001b[0m\u001b[1;33m,\u001b[0m \u001b[0mcredits\u001b[0m\u001b[1;33m=\u001b[0m\u001b[1;32mFalse\u001b[0m\u001b[1;33m)\u001b[0m\u001b[1;33m\u001b[0m\u001b[1;33m\u001b[0m\u001b[0m\n\u001b[0m",
      "\u001b[1;32mc:\\Users\\root_main\\Documents\\GitHub\\Projeto tlog\\tlog\\tlog.py\u001b[0m in \u001b[0;36m__init__\u001b[1;34m(self, path_exportFile, typeLog, credits, prefix)\u001b[0m\n\u001b[0;32m     22\u001b[0m                     \u001b[0marquivo\u001b[0m\u001b[1;33m.\u001b[0m\u001b[0mclose\u001b[0m\u001b[1;33m(\u001b[0m\u001b[1;33m)\u001b[0m\u001b[1;33m\u001b[0m\u001b[1;33m\u001b[0m\u001b[0m\n\u001b[0;32m     23\u001b[0m             \u001b[1;32mexcept\u001b[0m \u001b[0mFileNotFoundError\u001b[0m\u001b[1;33m:\u001b[0m\u001b[1;33m\u001b[0m\u001b[1;33m\u001b[0m\u001b[0m\n\u001b[1;32m---> 24\u001b[1;33m                 \u001b[1;32mraise\u001b[0m \u001b[0mtlog_errors\u001b[0m\u001b[1;33m.\u001b[0m\u001b[0mTlogErrorWriteFile\u001b[0m\u001b[1;33m(\u001b[0m\u001b[0mpath_try\u001b[0m\u001b[1;33m)\u001b[0m\u001b[1;33m\u001b[0m\u001b[1;33m\u001b[0m\u001b[0m\n\u001b[0m\u001b[0;32m     25\u001b[0m             \u001b[1;32melse\u001b[0m\u001b[1;33m:\u001b[0m\u001b[1;33m\u001b[0m\u001b[1;33m\u001b[0m\u001b[0m\n\u001b[0;32m     26\u001b[0m                 \u001b[0mself\u001b[0m\u001b[1;33m.\u001b[0m\u001b[0mtime\u001b[0m \u001b[1;33m=\u001b[0m \u001b[0mlog_time\u001b[0m\u001b[1;33m\u001b[0m\u001b[1;33m\u001b[0m\u001b[0m\n",
      "\u001b[1;31mTlogErrorWriteFile\u001b[0m: Erro na gravação do arquivo: C:\\Users\\root_main\\Documents\\logs\\log_tlog_homolog2\\Teste_Do_Tlog-2022-03-13-10-50-36.txt."
     ]
    }
   ],
   "source": [
    "#Teste com Parametros incorretos\n",
    "\n",
    "destPath = 'C:\\\\Users\\\\root_main\\\\Documents\\\\logs\\\\log_tlog_homolog2'\n",
    "# o valor esta sendo definido fora dos parametros para poder testar a exec\n",
    "logtype = 0\n",
    "\n",
    "log = Tlog(destPath, logtype, prefix= 'Teste_Do_Tlog', credits=False)"
   ]
  },
  {
   "cell_type": "code",
   "execution_count": 5,
   "metadata": {},
   "outputs": [
    {
     "ename": "TlogErrorInvalidTypeBool",
     "evalue": "O valor do parametro esta incorreto: \"False\":: (variavel:credits) , não é do tipo \"bool\".\nVerifique a documentação em -> https://github.com/tlsabara/tlog",
     "output_type": "error",
     "traceback": [
      "\u001b[1;31m---------------------------------------------------------------------------\u001b[0m",
      "\u001b[1;31mTlogErrorInvalidTypeBool\u001b[0m                  Traceback (most recent call last)",
      "\u001b[1;32mC:\\Users\\ROOT_M~1\\AppData\\Local\\Temp/ipykernel_2344/2321018703.py\u001b[0m in \u001b[0;36m<module>\u001b[1;34m\u001b[0m\n\u001b[0;32m      5\u001b[0m \u001b[0mlogtype\u001b[0m \u001b[1;33m=\u001b[0m \u001b[1;36m0\u001b[0m\u001b[1;33m\u001b[0m\u001b[1;33m\u001b[0m\u001b[0m\n\u001b[0;32m      6\u001b[0m \u001b[1;33m\u001b[0m\u001b[0m\n\u001b[1;32m----> 7\u001b[1;33m \u001b[0mlog\u001b[0m \u001b[1;33m=\u001b[0m \u001b[0mTlog\u001b[0m\u001b[1;33m(\u001b[0m\u001b[0mdestPath\u001b[0m\u001b[1;33m,\u001b[0m \u001b[0mlogtype\u001b[0m\u001b[1;33m,\u001b[0m \u001b[0mprefix\u001b[0m\u001b[1;33m=\u001b[0m \u001b[1;34m'Teste_Do_Tlog'\u001b[0m\u001b[1;33m,\u001b[0m \u001b[0mcredits\u001b[0m\u001b[1;33m=\u001b[0m \u001b[1;34m'False'\u001b[0m\u001b[1;33m)\u001b[0m\u001b[1;33m\u001b[0m\u001b[1;33m\u001b[0m\u001b[0m\n\u001b[0m",
      "\u001b[1;32mc:\\Users\\root_main\\Documents\\GitHub\\Projeto tlog\\tlog\\tlog.py\u001b[0m in \u001b[0;36m__init__\u001b[1;34m(self, path_exportFile, typeLog, credits, prefix)\u001b[0m\n\u001b[0;32m      8\u001b[0m         \u001b[1;32mif\u001b[0m \u001b[0mtypeLog\u001b[0m \u001b[1;32mnot\u001b[0m \u001b[1;32min\u001b[0m \u001b[1;33m[\u001b[0m\u001b[1;36m0\u001b[0m\u001b[1;33m,\u001b[0m\u001b[1;36m1\u001b[0m\u001b[1;33m,\u001b[0m\u001b[1;36m2\u001b[0m\u001b[1;33m,\u001b[0m\u001b[1;36m3\u001b[0m\u001b[1;33m]\u001b[0m \u001b[1;32mor\u001b[0m \u001b[0mtype\u001b[0m\u001b[1;33m(\u001b[0m\u001b[0mcredits\u001b[0m\u001b[1;33m)\u001b[0m \u001b[1;33m!=\u001b[0m  \u001b[0mbool\u001b[0m\u001b[1;33m:\u001b[0m\u001b[1;33m\u001b[0m\u001b[1;33m\u001b[0m\u001b[0m\n\u001b[0;32m      9\u001b[0m             \u001b[1;32mif\u001b[0m \u001b[0mtype\u001b[0m\u001b[1;33m(\u001b[0m\u001b[0mcredits\u001b[0m\u001b[1;33m)\u001b[0m \u001b[1;33m!=\u001b[0m  \u001b[0mbool\u001b[0m\u001b[1;33m:\u001b[0m\u001b[1;33m\u001b[0m\u001b[1;33m\u001b[0m\u001b[0m\n\u001b[1;32m---> 10\u001b[1;33m                 \u001b[1;32mraise\u001b[0m \u001b[0mtlog_errors\u001b[0m\u001b[1;33m.\u001b[0m\u001b[0mTlogErrorInvalidTypeBool\u001b[0m\u001b[1;33m(\u001b[0m\u001b[0mcredits\u001b[0m\u001b[1;33m,\u001b[0m \u001b[1;34m'credits'\u001b[0m\u001b[1;33m)\u001b[0m\u001b[1;33m\u001b[0m\u001b[1;33m\u001b[0m\u001b[0m\n\u001b[0m\u001b[0;32m     11\u001b[0m             \u001b[1;32melse\u001b[0m\u001b[1;33m:\u001b[0m\u001b[1;33m\u001b[0m\u001b[1;33m\u001b[0m\u001b[0m\n\u001b[0;32m     12\u001b[0m                 \u001b[1;32mraise\u001b[0m \u001b[0mtlog_errors\u001b[0m\u001b[1;33m.\u001b[0m\u001b[0mTlogErrorParameterValue\u001b[0m\u001b[1;33m(\u001b[0m\u001b[0mtypeLog\u001b[0m\u001b[1;33m)\u001b[0m\u001b[1;33m\u001b[0m\u001b[1;33m\u001b[0m\u001b[0m\n",
      "\u001b[1;31mTlogErrorInvalidTypeBool\u001b[0m: O valor do parametro esta incorreto: \"False\":: (variavel:credits) , não é do tipo \"bool\".\nVerifique a documentação em -> https://github.com/tlsabara/tlog"
     ]
    }
   ],
   "source": [
    "#Teste com Parametros incorretos\n",
    "\n",
    "destPath = 'C:\\\\Users\\\\root_main\\\\Documents\\\\logs\\\\log_tlog_homolog'\n",
    "# o valor esta sendo definido fora dos parametros para poder testar a exec\n",
    "logtype = 0\n",
    "\n",
    "log = Tlog(destPath, logtype, prefix= 'Teste_Do_Tlog', credits= 'False')"
   ]
  },
  {
   "cell_type": "code",
   "execution_count": 9,
   "metadata": {},
   "outputs": [],
   "source": [
    "#Teste com Parametros corretos\n",
    "\n",
    "destPath = 'C:\\\\Users\\\\root_main\\\\Documents\\\\logs\\\\log_tlog_homolog'\n",
    "logtype = 3\n",
    "log = Tlog(destPath, logtype, prefix= f'TESTv1-2-Tlog_LOG={logtype}')\n",
    "log.msg(f'Mensagem de erro no log tipo = {logtype}, visivel somente no tipo 2','Com o Nome do método especificado')\n",
    "log.msg(f'Mensagem de erro no log tipo = {logtype}, visivel somente no tipo 2')#Sem nome do método\n",
    "log.mLog(f'Mensagem do mLog no log tipo = {logtype}','Com nome do método')\n",
    "log.mLog(f'Mensagem do mLog no log tipo = {logtype}',) #Sem nome do método\n",
    "log.mDebug(f'Mensagem do mDebug no log tipo = {logtype}', 'Com nome do método')\n",
    "log.mDebug(f'Mensagem do mDebug no log tipo = {logtype}', )#Sem nome do método\n",
    "log.printlog()"
   ]
  },
  {
   "cell_type": "code",
   "execution_count": null,
   "metadata": {},
   "outputs": [],
   "source": [
    "\n"
   ]
  }
 ],
 "metadata": {
  "interpreter": {
   "hash": "d640ddd55753943663bdaff3963bfe2c4104120d656148cb73a9c6b322551e3c"
  },
  "kernelspec": {
   "display_name": "Python 3.9.7 ('base')",
   "language": "python",
   "name": "python3"
  },
  "language_info": {
   "codemirror_mode": {
    "name": "ipython",
    "version": 3
   },
   "file_extension": ".py",
   "mimetype": "text/x-python",
   "name": "python",
   "nbconvert_exporter": "python",
   "pygments_lexer": "ipython3",
   "version": "3.9.7"
  },
  "orig_nbformat": 4
 },
 "nbformat": 4,
 "nbformat_minor": 2
}
